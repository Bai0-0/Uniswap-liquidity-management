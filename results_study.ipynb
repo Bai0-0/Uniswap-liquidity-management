{
 "cells": [
  {
   "cell_type": "code",
   "execution_count": 5,
   "source": [
    "import pandas as pd\n",
    "import numpy as np\n",
    "from decimal import Decimal as Dec\n",
    "import matplotlib.pyplot as plt\n",
    "import sympy\n",
    "import os\n",
    "\n",
    "pd.options.mode.chained_assignment = None  # default='wsarn'\n",
    "pd.set_option('display.max_columns', None)\n",
    "pd.set_option('display.max_rows', 50)"
   ],
   "outputs": [],
   "metadata": {}
  },
  {
   "cell_type": "markdown",
   "source": [
    "# numerical results"
   ],
   "metadata": {}
  },
  {
   "cell_type": "code",
   "execution_count": 100,
   "source": [
    "folder_path = \"numerical_detail_a_0_1\"\n",
    "num_results_df = pd.DataFrame()\n",
    "\n",
    "for csv in sorted(os.listdir(folder_path)):\n",
    "    row_dict = {}\n",
    "    if \"epoc\" in csv:\n",
    "        df = pd.read_csv(folder_path + \"/\" + csv)\n",
    "        df = df.iloc[:-1]\n",
    "        row_dict['pool'] = csv\n",
    "        b = float(csv[:-9].replace(\"_\", \".\"))\n",
    "        row_dict['b'] = b\n",
    "        row_dict['rebase_time'] = len(df) - 1\n",
    "        row_dict['swap_time'] = df.iloc[-1]['epoc_end_index'] - 1\n",
    "        row_dict['mean_stopping_time'] = row_dict['swap_time'] / row_dict['rebase_time']\n",
    "\n",
    "        row_dict['pnl_mean'] = np.mean(df['end_wealth'] - df['invest_wealth'])\n",
    "        row_dict['pnl_IL_mean'] = np.mean(df['end_wealth'] - df['holding_wealth'])\n",
    "        row_dict['fee_wealth_mean'] = np.mean(df['end_wealth_fee'])\n",
    "        row_dict['IL_mean'] = np.mean(df['end_wealth_in_pool'] - df['holding_wealth'])\n",
    "        # row_dict['theo_IL'] = -(np.exp(b) - np.exp(-b)) / 4 * 20\n",
    "        # row_dict['theo_pnl_mean'] = row_dict['theo_IL'] + row_dict['fee_wealth_mean']\n",
    "\n",
    "        row_dict['pnl_apr'] = row_dict['pnl_mean'] / np.mean(df['invest_wealth'])\n",
    "        row_dict['pnl_IL_apr'] = row_dict['pnl_IL_mean'] / np.mean(df['invest_wealth'])\n",
    "        row_dict['fee_wealth_apr'] = row_dict['fee_wealth_mean'] / np.mean(df['invest_wealth'])\n",
    "        row_dict['IL_mean_apr'] = row_dict['IL_mean'] / np.mean(df['invest_wealth'])\n",
    "        # row_dict['theo_IL_apr'] = row_dict['theo_IL'] / np.mean(df['invest_wealth'])\n",
    "        # row_dict['theo_pnl_apr'] = row_dict['theo_pnl_mean'] / np.mean(df['invest_wealth'])\n",
    "        row_dict['effective_tx_ratio'] = sum(df['epoc_effective_tx_count']) / row_dict['swap_time']\n",
    "\n",
    "        num_results_df = num_results_df.append(row_dict, ignore_index=True)\n",
    "\n",
    "demo_df = num_results_df[['pool', 'b', 'rebase_time', 'swap_time', 'mean_stopping_time', 'fee_wealth_mean',\n",
    "                          'IL_mean', 'pnl_mean', 'pnl_IL_mean', 'fee_wealth_apr', 'IL_mean_apr', \n",
    "                          'pnl_apr', 'pnl_IL_apr', 'effective_tx_ratio']]\n",
    "demo_df\n",
    "demo_df.to_csv(\"numerical_detail_a_0_1.csv\")"
   ],
   "outputs": [],
   "metadata": {}
  },
  {
   "cell_type": "code",
   "execution_count": 111,
   "source": [
    "source_folder = \"pool_detail\"\n",
    "summary_folder = \"pool_detail_summary\"\n",
    "\n",
    "for pool in sorted(os.listdir(source_folder)):\n",
    "    if \".\" not in pool:\n",
    "        num_results_df = pd.DataFrame()\n",
    "        for csv in sorted(os.listdir(source_folder + \"/\" + pool)):\n",
    "            row_dict = {}\n",
    "            if \"epoc\" in csv:\n",
    "                df = pd.read_csv(source_folder + \"/\" + pool + \"/\" + csv)\n",
    "                # df = df.iloc[:-1]\n",
    "                row_dict['pool'] = pool\n",
    "                if \"optimum\" not in csv:\n",
    "                    b = float(csv[:-9].replace(\"_\", \".\"))\n",
    "                    row_dict['b'] = b\n",
    "                else:\n",
    "                    row_dict['b'] = \"optimum\"\n",
    "                row_dict['rebase_time'] = len(df) - 1\n",
    "                row_dict['swap_time'] = df.iloc[-1]['epoc_end_index'] - 1\n",
    "                row_dict['mean_stopping_time'] = row_dict['swap_time'] / row_dict['rebase_time']\n",
    "                row_dict['pnl_mean'] = np.mean(df['end_wealth'] - df['invest_wealth'])\n",
    "                row_dict['pnl_IL_mean'] = np.mean(df['end_wealth'] - df['holding_wealth'])\n",
    "                row_dict['fee_wealth_mean'] = np.mean(df['end_wealth_fee'])\n",
    "                row_dict['IL_mean'] = np.mean(df['end_wealth_in_pool'] - df['holding_wealth'])\n",
    "                row_dict['theo_IL'] = -(np.exp(b) - np.exp(-b)) / 4 * 20\n",
    "                row_dict['theo_pnl_mean'] = row_dict['theo_IL'] + row_dict['fee_wealth_mean']\n",
    "\n",
    "                row_dict['pnl_apr'] = row_dict['pnl_mean'] / np.mean(df['invest_wealth'])\n",
    "                row_dict['pnl_IL_apr'] = row_dict['pnl_IL_mean'] / np.mean(df['invest_wealth'])\n",
    "                row_dict['fee_wealth_apr'] = row_dict['fee_wealth_mean'] / np.mean(df['invest_wealth'])\n",
    "                row_dict['IL_mean_apr'] = row_dict['IL_mean'] / np.mean(df['invest_wealth'])\n",
    "                row_dict['theo_IL_apr'] = row_dict['theo_IL'] / np.mean(df['invest_wealth'])\n",
    "                row_dict['theo_pnl_apr'] = row_dict['theo_pnl_mean'] / np.mean(df['invest_wealth'])\n",
    "                # row_dict['effective_tx_ratio'] = sum(df['epoc_effective_tx_count']) / row_dict['swap_time']\n",
    "\n",
    "                num_results_df = num_results_df.append(row_dict, ignore_index=True)\n",
    "            \n",
    "            demo_df = num_results_df[['pool', 'b', 'rebase_time', 'swap_time', 'mean_stopping_time', 'fee_wealth_mean',\n",
    "                          'IL_mean', 'theo_IL', 'pnl_mean', 'pnl_IL_mean', 'theo_pnl_mean', 'fee_wealth_apr', 'IL_mean_apr', \n",
    "                          'theo_IL_apr', 'pnl_apr', 'pnl_IL_apr', 'theo_pnl_apr']]\n",
    "\n",
    "            demo_df.to_csv(summary_folder + \"/\" + pool + \"_summary.csv\")"
   ],
   "outputs": [
    {
     "output_type": "stream",
     "name": "stderr",
     "text": [
      "<ipython-input-111-9245783b7819>:20: RuntimeWarning: divide by zero encountered in long_scalars\n",
      "  row_dict['mean_stopping_time'] = row_dict['swap_time'] / row_dict['rebase_time']\n",
      "<ipython-input-111-9245783b7819>:20: RuntimeWarning: divide by zero encountered in double_scalars\n",
      "  row_dict['mean_stopping_time'] = row_dict['swap_time'] / row_dict['rebase_time']\n"
     ]
    }
   ],
   "metadata": {}
  },
  {
   "cell_type": "code",
   "execution_count": 85,
   "source": [
    "source_folders = \"pool_detail\"\n",
    "results_df = pd.DataFrame()\n",
    "for pool in sorted(os.listdir(source_folders)):\n",
    "    try:\n",
    "        row_dict = {}\n",
    "        folder_path = source_folders + \"/\" + pool\n",
    "        profit_dict = {}\n",
    "\n",
    "        row_dict['pool'] = pool\n",
    "        for csv in sorted(os.listdir(folder_path)):\n",
    "            if \"epoc\" in csv and \"optimum\" not in csv:\n",
    "                df = pd.read_csv(folder_path + \"/\" + csv)\n",
    "                profit_dict[csv] = sum(df['end_wealth'] - df['holding_wealth']) / max(df['invest_wealth'])\n",
    "        max_pnl = max(profit_dict.values())\n",
    "        for (k, v) in profit_dict.items():\n",
    "            if v == max_pnl:\n",
    "                row_dict['best_b'] = k\n",
    "                row_dict['best_b_apr'] = v\n",
    "                row_dict['b'] = float(k[:-9].replace(\"_\", \".\"))\n",
    "                # row_dict['theo_IL'] = -(np.exp(row_dict['b']) - np.exp(-row_dict['b'])) / 4 * 200 / max(df['invest_wealth'])\n",
    "                # row_dict['best_IL'] = sum((df['holding_wealth'] - df['end_wealth']) * (df['epoc_end_index'] - df['epoc_begin_index'])) / df.iloc[-1]['epoc_end_index']\n",
    "                row_dict['best_fee_apr'] = sum(df['end_wealth_fee']) / max(df['invest_wealth'])\n",
    "                # row_dict['best_IL_apr'] = sum(df['end_wealth_in_pool'] - df['holding_wealth']) / max(df['invest_wealth'])\n",
    "                break\n",
    "\n",
    "        csv = \"optimum_epoc.csv\"\n",
    "        df = pd.read_csv(folder_path + \"/\" + csv)\n",
    "        row_dict['optimum_b'] = csv\n",
    "        row_dict['optimum_b_apr'] = sum(df['end_wealth'] - df['holding_wealth']) / max(df['invest_wealth'])\n",
    "        # row_dict['optimum_IL'] = sum((df['holding_wealth'] - df['end_wealth']) * (df['epoc_end_index'] - df['epoc_begin_index'])) / df.iloc[-1]['epoc_end_index']\n",
    "        row_dict['optimum_fee_apr'] = sum(df['end_wealth_fee']) / max(df['invest_wealth'])\n",
    "        # row_dict['optimum_IL_apr'] = sum(df['end_wealth_in_pool'] - df['holding_wealth']) / max(df['invest_wealth'])\n",
    "        results_df = results_df.append(row_dict, ignore_index=True)\n",
    "    except Exception as e: pass"
   ],
   "outputs": [],
   "metadata": {}
  },
  {
   "cell_type": "code",
   "execution_count": 86,
   "source": [
    "demo_df = results_df[['pool', 'best_b', 'best_b_apr', 'best_fee_apr', 'best_IL_apr', 'optimum_b_apr', 'optimum_fee_apr', 'optimum_IL_apr']]\n",
    "demo_df.to_csv(\"pool_results.csv\")"
   ],
   "outputs": [],
   "metadata": {}
  },
  {
   "cell_type": "markdown",
   "source": [
    "# get price data"
   ],
   "metadata": {}
  },
  {
   "cell_type": "code",
   "execution_count": 16,
   "source": [
    "des_path = \"pool_price_hist\"\n",
    "for folder_name in sorted(os.listdir(\"pool_detail_backup\")):\n",
    "    if \".\" not in folder_name:\n",
    "        df = pd.read_csv(\"pool_detail_backup/\" + folder_name + \"/0_2_transaction.csv\")\n",
    "        df = df[['swap_index', 'current_price']]\n",
    "        df.to_csv(des_path + \"/\" + folder_name + \"_price_hist.csv\", index=False)\n"
   ],
   "outputs": [],
   "metadata": {}
  },
  {
   "cell_type": "code",
   "execution_count": 107,
   "source": [
    "df = pd.read_csv(\"after_preprocessing/AAVE_WETH_3000_0815.csv\")\n",
    "df['timeStamp']"
   ],
   "outputs": [
    {
     "output_type": "execute_result",
     "data": {
      "text/plain": [
       "0       2021-05-05 17:43:44\n",
       "1       2021-05-05 17:43:44\n",
       "2       2021-05-05 20:29:05\n",
       "3       2021-05-05 20:34:00\n",
       "4       2021-05-05 20:34:00\n",
       "               ...         \n",
       "8246    2021-08-12 13:55:56\n",
       "8247    2021-08-12 13:59:34\n",
       "8248    2021-08-12 14:11:44\n",
       "8249    2021-08-12 14:16:29\n",
       "8250    2021-08-12 14:26:25\n",
       "Name: timeStamp, Length: 8251, dtype: object"
      ]
     },
     "metadata": {},
     "execution_count": 107
    }
   ],
   "metadata": {}
  },
  {
   "cell_type": "code",
   "execution_count": null,
   "source": [],
   "outputs": [],
   "metadata": {}
  }
 ],
 "metadata": {
  "orig_nbformat": 4,
  "language_info": {
   "name": "python",
   "version": "3.8.6",
   "mimetype": "text/x-python",
   "codemirror_mode": {
    "name": "ipython",
    "version": 3
   },
   "pygments_lexer": "ipython3",
   "nbconvert_exporter": "python",
   "file_extension": ".py"
  },
  "kernelspec": {
   "name": "python3",
   "display_name": "Python 3.8.6 64-bit"
  },
  "interpreter": {
   "hash": "4cd7ab41f5fca4b9b44701077e38c5ffd31fe66a6cab21e0214b68d958d0e462"
  }
 },
 "nbformat": 4,
 "nbformat_minor": 2
}