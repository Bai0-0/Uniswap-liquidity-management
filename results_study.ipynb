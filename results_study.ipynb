{
 "cells": [
  {
   "cell_type": "code",
   "execution_count": 1,
   "source": [
    "import pandas as pd\n",
    "import numpy as np\n",
    "from decimal import Decimal as Dec\n",
    "import matplotlib.pyplot as plt\n",
    "import sympy\n",
    "import os\n",
    "from datetime import datetime as dt\n",
    "from datetime import timedelta as td\n",
    "pd.options.mode.chained_assignment = None  # default='wsarn'\n",
    "pd.set_option('display.max_columns', None)\n",
    "pd.set_option('display.max_rows', 50)"
   ],
   "outputs": [],
   "metadata": {}
  },
  {
   "cell_type": "markdown",
   "source": [
    "# numerical results"
   ],
   "metadata": {}
  },
  {
   "cell_type": "code",
   "execution_count": 100,
   "source": [
    "folder_path = \"numerical_detail_a_0_1\"\n",
    "num_results_df = pd.DataFrame()\n",
    "\n",
    "for csv in sorted(os.listdir(folder_path)):\n",
    "    row_dict = {}\n",
    "    if \"epoc\" in csv:\n",
    "        df = pd.read_csv(folder_path + \"/\" + csv)\n",
    "        df = df.iloc[:-1]\n",
    "        row_dict['pool'] = csv\n",
    "        b = float(csv[:-9].replace(\"_\", \".\"))\n",
    "        row_dict['b'] = b\n",
    "        row_dict['rebase_time'] = len(df) - 1\n",
    "        row_dict['swap_time'] = df.iloc[-1]['epoc_end_index'] - 1\n",
    "        row_dict['mean_stopping_time'] = row_dict['swap_time'] / row_dict['rebase_time']\n",
    "\n",
    "        row_dict['pnl_mean'] = np.mean(df['end_wealth'] - df['invest_wealth'])\n",
    "        row_dict['pnl_IL_mean'] = np.mean(df['end_wealth'] - df['holding_wealth'])\n",
    "        row_dict['fee_wealth_mean'] = np.mean(df['end_wealth_fee'])\n",
    "        row_dict['IL_mean'] = np.mean(df['end_wealth_in_pool'] - df['holding_wealth'])\n",
    "        # row_dict['theo_IL'] = -(np.exp(b) - np.exp(-b)) / 4 * 20\n",
    "        # row_dict['theo_pnl_mean'] = row_dict['theo_IL'] + row_dict['fee_wealth_mean']\n",
    "\n",
    "        row_dict['pnl_apr'] = row_dict['pnl_mean'] / np.mean(df['invest_wealth'])\n",
    "        row_dict['pnl_IL_apr'] = row_dict['pnl_IL_mean'] / np.mean(df['invest_wealth'])\n",
    "        row_dict['fee_wealth_apr'] = row_dict['fee_wealth_mean'] / np.mean(df['invest_wealth'])\n",
    "        row_dict['IL_mean_apr'] = row_dict['IL_mean'] / np.mean(df['invest_wealth'])\n",
    "        # row_dict['theo_IL_apr'] = row_dict['theo_IL'] / np.mean(df['invest_wealth'])\n",
    "        # row_dict['theo_pnl_apr'] = row_dict['theo_pnl_mean'] / np.mean(df['invest_wealth'])\n",
    "        row_dict['effective_tx_ratio'] = sum(df['epoc_effective_tx_count']) / row_dict['swap_time']\n",
    "\n",
    "        num_results_df = num_results_df.append(row_dict, ignore_index=True)\n",
    "\n",
    "demo_df = num_results_df[['pool', 'b', 'rebase_time', 'swap_time', 'mean_stopping_time', 'fee_wealth_mean',\n",
    "                          'IL_mean', 'pnl_mean', 'pnl_IL_mean', 'fee_wealth_apr', 'IL_mean_apr', \n",
    "                          'pnl_apr', 'pnl_IL_apr', 'effective_tx_ratio']]\n",
    "demo_df\n",
    "demo_df.to_csv(\"numerical_detail_a_0_1.csv\")"
   ],
   "outputs": [],
   "metadata": {}
  },
  {
   "cell_type": "markdown",
   "source": [
    "# pool summary"
   ],
   "metadata": {}
  },
  {
   "cell_type": "code",
   "execution_count": 131,
   "source": [
    "source_folder = \"pool_detail\"\n",
    "summary_folder = \"pool_detail_summary\"\n",
    "\n",
    "for pool in sorted(os.listdir(source_folder)):\n",
    "    if \".\" not in pool:\n",
    "        num_results_df = pd.DataFrame()\n",
    "        for csv in sorted(os.listdir(source_folder + \"/\" + pool)):\n",
    "            row_dict = {}\n",
    "            if \"epoc\" in csv:\n",
    "                df = pd.read_csv(source_folder + \"/\" + pool + \"/\" + csv)\n",
    "                df = df.iloc[:-1]\n",
    "                row_dict['pool'] = pool\n",
    "                if \"optimum\" not in csv:\n",
    "                    b = float(csv[:-9].replace(\"_\", \".\"))\n",
    "                    row_dict['b'] = b\n",
    "                else:\n",
    "                    row_dict['b'] = \"optimum\"\n",
    "                row_dict['rebase_time'] = len(df)\n",
    "                row_dict['swap_time'] = df.iloc[-1]['epoc_end_index'] + 1\n",
    "                row_dict['mean_stopping_index'] = row_dict['swap_time'] / row_dict['rebase_time']\n",
    "                df['epoc_begin_timestamp'] = df['epoc_begin_timestamp'].apply(lambda x: dt.strptime(x, \"%Y-%m-%d %H:%M:%S\"))\n",
    "                df['epoc_end_timestamp'] = df['epoc_end_timestamp'].apply(lambda x: dt.strptime(x, \"%Y-%m-%d %H:%M:%S\"))\n",
    "                row_dict['start_time'] = df['epoc_begin_timestamp'].iloc[0]\n",
    "                row_dict['end_time'] = df['epoc_end_timestamp'].iloc[-1]\n",
    "                row_dict['mean_stopping_time'] = (row_dict['end_time'] - row_dict['start_time']) / row_dict['rebase_time']\n",
    "                stopping_time = td(days=365) / row_dict['mean_stopping_time']\n",
    "                row_dict['pnl_mean'] = np.mean(df['end_wealth'] - df['invest_wealth'])\n",
    "                row_dict['pnl_IL_mean'] = np.mean(df['end_wealth'] - df['holding_wealth'])\n",
    "                row_dict['fee_wealth_mean'] = np.mean(df['end_wealth_fee'])\n",
    "                row_dict['IL_mean'] = np.mean(df['end_wealth_in_pool'] - df['holding_wealth'])\n",
    "                # row_dict['theo_IL'] = -(np.exp(b) - np.exp(-b)) / 4 * 20\n",
    "                # row_dict['theo_pnl_mean'] = row_dict['theo_IL'] + row_dict['fee_wealth_mean']\n",
    "\n",
    "                row_dict['pnl_apr'] = row_dict['pnl_mean'] / np.mean(df['invest_wealth']) * stopping_time\n",
    "                row_dict['pnl_IL_apr'] = row_dict['pnl_IL_mean'] / np.mean(df['invest_wealth']) * stopping_time\n",
    "                row_dict['fee_wealth_apr'] = row_dict['fee_wealth_mean'] / np.mean(df['invest_wealth']) * stopping_time\n",
    "                row_dict['IL_mean_apr'] = row_dict['IL_mean'] / np.mean(df['invest_wealth']) * stopping_time\n",
    "                # row_dict['theo_IL_apr'] = row_dict['theo_IL'] / np.mean(df['invest_wealth'])\n",
    "                # row_dict['theo_pnl_apr'] = row_dict['theo_pnl_mean'] / np.mean(df['invest_wealth'])\n",
    "                row_dict['effective_tx_ratio'] = sum(df['epoc_effective_tx_count']) / row_dict['swap_time']\n",
    "\n",
    "                num_results_df = num_results_df.append(row_dict, ignore_index=True)\n",
    "            \n",
    "            demo_df = num_results_df[['pool', 'b', 'rebase_time', 'swap_time', 'mean_stopping_index', 'start_time', 'end_time', 'mean_stopping_time',\n",
    "                          'fee_wealth_mean', 'IL_mean', 'pnl_mean', 'pnl_IL_mean', 'fee_wealth_apr', 'IL_mean_apr', \n",
    "                          'pnl_apr', 'pnl_IL_apr', 'effective_tx_ratio']]\n",
    "\n",
    "            demo_df.to_csv(summary_folder + \"/\" + pool + \"_summary.csv\")"
   ],
   "outputs": [],
   "metadata": {}
  },
  {
   "cell_type": "markdown",
   "source": [
    "# read summary"
   ],
   "metadata": {}
  },
  {
   "cell_type": "code",
   "execution_count": 4,
   "source": [
    "results_df = pd.DataFrame(columns=['pool', 'start_time', 'end_time', 'best_b', 'best_b_rebase_time', 'best_b_mean_stopping_index', 'best_b_mean_stopping_time', 'best_b_fee_wealth_mean', 'best_b_IL_mean', 'best_b_pnl_mean', 'bset_b_pnl_IL_mean', 'best_b_fee_wealth_apr', 'best_b_IL_mean_apr', 'best_b_pnl_apr', 'best_b_pnl_IL_apr', 'best_b_effective_tx_ratio',\n",
    "                                                                    'optimum', 'optimum_rebase_time', 'optimum_mean_stopping_index', 'optimum_mean_stopping_time', 'optimum_fee_wealth_mean', 'optimum_IL_mean', 'optimum_pnl_mean', 'optimum_pnl_IL_mean', 'optimum_fee_wealth_apr', 'optimum_IL_mean_apr', 'optimum_pnl_apr', 'optimum_pnl_IL_apr', 'optimum_effective_tx_ratio'])\n",
    "for csv in sorted(os.listdir(\"pool_detail_summary\")):\n",
    "    if \".csv\" in csv:\n",
    "        df = pd.read_csv(f\"pool_detail_summary/{csv}\")\n",
    "        row = {}\n",
    "        optimum = df.iloc[-1]\n",
    "        try:\n",
    "            best_b = df.sort_values(\"pnl_IL_apr\", ascending=False).iloc[0]\n",
    "            row['pool'] = best_b['pool']\n",
    "            row['start_time'] = best_b['start_time']\n",
    "            row['end_time'] = best_b['end_time']\n",
    "\n",
    "            row['best_b'] = best_b['b']\n",
    "            row['best_b_rebase_time'] = best_b['rebase_time']\n",
    "            row['best_b_mean_stopping_index'] = best_b['mean_stopping_index']\n",
    "            row['best_b_mean_stopping_time'] = best_b['mean_stopping_time']\n",
    "            row['best_b_fee_wealth_mean'] = best_b['fee_wealth_mean']\n",
    "            row['best_b_IL_mean'] = best_b['IL_mean']\n",
    "            row['best_b_pnl_mean'] = best_b['pnl_mean']\n",
    "            row['bset_b_pnl_IL_mean'] = best_b['pnl_IL_mean']\n",
    "            row['best_b_fee_wealth_apr'] = best_b['fee_wealth_apr']\n",
    "            row['best_b_IL_mean_apr'] = best_b['IL_mean_apr']\n",
    "            row['best_b_pnl_apr'] = best_b['pnl_apr']\n",
    "            row['best_b_pnl_IL_apr'] = best_b['pnl_IL_apr']\n",
    "            row['best_b_effective_tx_ratio'] = best_b['effective_tx_ratio']\n",
    "\n",
    "            row['optimum'] = optimum['b']\n",
    "            row['optimum_rebase_time'] = optimum['rebase_time']\n",
    "            row['optimum_mean_stopping_index'] = optimum['mean_stopping_index']\n",
    "            row['optimum_mean_stopping_time'] = optimum['mean_stopping_time']\n",
    "            row['optimum_fee_wealth_mean'] = optimum['fee_wealth_mean']\n",
    "            row['optimum_IL_mean'] = optimum['IL_mean']\n",
    "            row['optimum_pnl_mean'] = optimum['pnl_mean']\n",
    "            row['optimum_pnl_IL_mean'] = optimum['pnl_IL_mean']\n",
    "            row['optimum_fee_wealth_apr'] = optimum['fee_wealth_apr']\n",
    "            row['optimum_IL_mean_apr'] = optimum['IL_mean_apr']\n",
    "            row['optimum_pnl_apr'] = optimum['pnl_apr']\n",
    "            row['optimum_pnl_IL_apr'] = optimum['pnl_IL_apr']\n",
    "            row['optimum_effective_tx_ratio'] = optimum['effective_tx_ratio']\n",
    "\n",
    "            results_df = results_df.append(row, ignore_index=True)\n",
    "        \n",
    "        except: pass\n",
    "\n",
    "results_df.to_csv(\"pool_summary_results.csv\")\n",
    "print(\"done\")"
   ],
   "outputs": [
    {
     "output_type": "stream",
     "name": "stdout",
     "text": [
      "done\n"
     ]
    }
   ],
   "metadata": {}
  },
  {
   "cell_type": "markdown",
   "source": [
    "# get price data"
   ],
   "metadata": {}
  },
  {
   "cell_type": "code",
   "execution_count": 116,
   "source": [
    "# des_path = \"pool_price_hist\"\n",
    "# for folder_name in sorted(os.listdir(\"pool_detail_backup\")):\n",
    "#     if \".\" not in folder_name:\n",
    "#         df = pd.read_csv(\"pool_detail_backup/\" + folder_name + \"/0_2_transaction.csv\")\n",
    "#         df = df[['swap_index', 'current_price']]\n",
    "#         df.to_csv(des_path + \"/\" + folder_name + \"_price_hist.csv\", index=False)\n"
   ],
   "outputs": [],
   "metadata": {}
  },
  {
   "cell_type": "code",
   "execution_count": null,
   "source": [],
   "outputs": [],
   "metadata": {}
  }
 ],
 "metadata": {
  "orig_nbformat": 4,
  "language_info": {
   "name": "python",
   "version": "3.8.6",
   "mimetype": "text/x-python",
   "codemirror_mode": {
    "name": "ipython",
    "version": 3
   },
   "pygments_lexer": "ipython3",
   "nbconvert_exporter": "python",
   "file_extension": ".py"
  },
  "kernelspec": {
   "name": "python3",
   "display_name": "Python 3.8.6 64-bit"
  },
  "interpreter": {
   "hash": "4cd7ab41f5fca4b9b44701077e38c5ffd31fe66a6cab21e0214b68d958d0e462"
  }
 },
 "nbformat": 4,
 "nbformat_minor": 2
}