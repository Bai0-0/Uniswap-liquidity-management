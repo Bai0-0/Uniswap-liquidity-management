{
 "cells": [
  {
   "cell_type": "code",
   "execution_count": 2,
   "source": [
    "import pandas as pd\n",
    "import numpy as np\n",
    "from decimal import Decimal as Dec\n",
    "import matplotlib.pyplot as plt\n",
    "import sympy\n",
    "\n",
    "pd.options.mode.chained_assignment = None  # default='warn'\n",
    "pd.set_option('display.max_columns', None)\n",
    "pd.set_option('display.max_rows', 50)"
   ],
   "outputs": [],
   "metadata": {}
  },
  {
   "cell_type": "code",
   "execution_count": 78,
   "source": [
    "folder_path = \"numerical_detail\"\n",
    "num_results_df = pd.DataFrame()\n",
    "\n",
    "for csv in sorted(os.listdir(folder_path)):\n",
    "    row_dict = {}\n",
    "    if \"epoc\" in csv:\n",
    "        df = pd.read_csv(folder_path + \"/\" + csv)\n",
    "        # df = df.iloc[:-1]\n",
    "        row_dict['pool'] = csv\n",
    "        row_dict['pnl'] = sum(df['end_wealth'] - df['holding_wealth']) / max(df['invest_wealth'])\n",
    "        b = float(csv[:-9].replace(\"_\", \".\"))\n",
    "        row_dict['fee_wealth'] = sum(df['end_wealth_fee']) / max(df['invest_wealth'])\n",
    "        row_dict['IL'] = sum(df['end_wealth_in_pool'] - df['holding_wealth']) / max(df['invest_wealth'])\n",
    "        row_dict['theo_IL'] = -(np.exp(b) - np.exp(-b)) / 4 * 20 * len(df)  / max(df['invest_wealth'])\n",
    "        row_dict['effective_tx_ratio'] = sum(df['epoc_effective_tx_count']) / df.iloc[-1]['epoc_end_index']\n",
    "        num_results_df = num_results_df.append(row_dict, ignore_index=True)\n",
    "demo_df = num_results_df[['pool', 'pnl','fee_wealth', 'IL', 'theo_IL', 'effective_tx_ratio']]\n",
    "demo_df\n",
    "demo_df.to_csv(\"numerical_detail.csv\")"
   ],
   "outputs": [],
   "metadata": {}
  },
  {
   "cell_type": "code",
   "execution_count": 85,
   "source": [
    "source_folders = \"pool_detail\"\n",
    "results_df = pd.DataFrame()\n",
    "for pool in sorted(os.listdir(source_folders)):\n",
    "    try:\n",
    "        row_dict = {}\n",
    "        folder_path = source_folders + \"/\" + pool\n",
    "        profit_dict = {}\n",
    "\n",
    "        row_dict['pool'] = pool\n",
    "        for csv in sorted(os.listdir(folder_path)):\n",
    "            if \"epoc\" in csv and \"optimum\" not in csv:\n",
    "                df = pd.read_csv(folder_path + \"/\" + csv)\n",
    "                profit_dict[csv] = sum(df['end_wealth'] - df['holding_wealth']) / max(df['invest_wealth'])\n",
    "        max_pnl = max(profit_dict.values())\n",
    "        for (k, v) in profit_dict.items():\n",
    "            if v == max_pnl:\n",
    "                row_dict['best_b'] = k\n",
    "                row_dict['best_b_apr'] = v\n",
    "                row_dict['b'] = float(k[:-9].replace(\"_\", \".\"))\n",
    "                # row_dict['theo_IL'] = -(np.exp(row_dict['b']) - np.exp(-row_dict['b'])) / 4 * 200 / max(df['invest_wealth'])\n",
    "                # row_dict['best_IL'] = sum((df['holding_wealth'] - df['end_wealth']) * (df['epoc_end_index'] - df['epoc_begin_index'])) / df.iloc[-1]['epoc_end_index']\n",
    "                row_dict['best_fee_apr'] = sum(df['end_wealth_fee']) / max(df['invest_wealth'])\n",
    "                row_dict['best_IL_apr'] = sum(df['end_wealth_in_pool'] - df['holding_wealth']) / max(df['invest_wealth'])\n",
    "                break\n",
    "\n",
    "        csv = \"optimum_epoc.csv\"\n",
    "        df = pd.read_csv(folder_path + \"/\" + csv)\n",
    "        row_dict['optimum_b'] = csv\n",
    "        row_dict['optimum_b_apr'] = sum(df['end_wealth'] - df['holding_wealth']) / max(df['invest_wealth'])\n",
    "        # row_dict['optimum_IL'] = sum((df['holding_wealth'] - df['end_wealth']) * (df['epoc_end_index'] - df['epoc_begin_index'])) / df.iloc[-1]['epoc_end_index']\n",
    "        row_dict['optimum_fee_apr'] = sum(df['end_wealth_fee']) / max(df['invest_wealth'])\n",
    "        row_dict['optimum_IL_apr'] = sum(df['end_wealth_in_pool'] - df['holding_wealth']) / max(df['invest_wealth'])\n",
    "        results_df = results_df.append(row_dict, ignore_index=True)\n",
    "    except Exception as e: pass"
   ],
   "outputs": [],
   "metadata": {}
  },
  {
   "cell_type": "code",
   "execution_count": 86,
   "source": [
    "demo_df = results_df[['pool', 'best_b', 'best_b_apr', 'best_fee_apr', 'best_IL_apr', 'optimum_b_apr', 'optimum_fee_apr', 'optimum_IL_apr']]\n",
    "demo_df.to_csv(\"pool_results.csv\")"
   ],
   "outputs": [],
   "metadata": {}
  },
  {
   "cell_type": "code",
   "execution_count": null,
   "source": [],
   "outputs": [],
   "metadata": {}
  }
 ],
 "metadata": {
  "orig_nbformat": 4,
  "language_info": {
   "name": "python",
   "version": "3.8.6",
   "mimetype": "text/x-python",
   "codemirror_mode": {
    "name": "ipython",
    "version": 3
   },
   "pygments_lexer": "ipython3",
   "nbconvert_exporter": "python",
   "file_extension": ".py"
  },
  "kernelspec": {
   "name": "python3",
   "display_name": "Python 3.8.6 64-bit"
  },
  "interpreter": {
   "hash": "4cd7ab41f5fca4b9b44701077e38c5ffd31fe66a6cab21e0214b68d958d0e462"
  }
 },
 "nbformat": 4,
 "nbformat_minor": 2
}